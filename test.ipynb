{
 "cells": [
  {
   "cell_type": "code",
   "execution_count": 1,
   "metadata": {},
   "outputs": [],
   "source": [
    "import pandas as pd\n",
    "import numpy as np\n",
    "from matplotlib import pyplot as plt\n",
    "from PIL import Image, ImageChops, ImageEnhance\n",
    "import tensorflow as tf"
   ]
  },
  {
   "cell_type": "code",
   "execution_count": 2,
   "metadata": {},
   "outputs": [],
   "source": [
    "\n",
    "def difference(path):\n",
    "    filename = path\n",
    "    # print(path)\n",
    "    resaved_name = filename.split('.')[-2]+'resaved.jpg'\n",
    "    # print(resaved_name)\n",
    "    resaved_name = resaved_name.split('/')[-1]\n",
    "    org = Image.open(filename).convert('RGB')\n",
    "    org.save(resaved_name, 'JPEG', quality=92)\n",
    "    resaved = Image.open(resaved_name)\n",
    "    diff = ImageChops.difference(org, resaved)\n",
    "    extrema = diff.getextrema()\n",
    "    max_diff = max([ex[1] for ex in extrema])\n",
    "    if max_diff == 0:\n",
    "        max_diff = 1\n",
    "    scale = 255.0 / max_diff\n",
    "\n",
    "    diff = ImageEnhance.Brightness(diff).enhance(scale)\n",
    "    # diff\n",
    "    return diff\n"
   ]
  },
  {
   "cell_type": "code",
   "execution_count": 3,
   "metadata": {},
   "outputs": [],
   "source": [
    "from tensorflow.keras.models import load_model\n",
    "model = load_model('model.keras')"
   ]
  },
  {
   "cell_type": "code",
   "execution_count": 4,
   "metadata": {},
   "outputs": [
    {
     "name": "stdin",
     "output_type": "stream",
     "text": [
      "enter image path: \n",
      " D:\\image-forgery-detection-main\\dataset\\CASIA2\\Tp\\Tp_D_CND_S_N_ani00073_ani00068_00193.tif\n"
     ]
    }
   ],
   "source": [
    "from pylab import *\n",
    "path=input(\"enter image path: \\n\")\n",
    "try:\n",
    "    img= Image.open(path)\n",
    "    img=np.array(difference(path).resize((128, 128))).flatten()/255.0\n",
    "    img=img.reshape(-1, 128, 128, 3)\n",
    "except:\n",
    "    print(\"Image does not Exist.\\nWorng path\")"
   ]
  },
  {
   "cell_type": "code",
   "execution_count": 5,
   "metadata": {},
   "outputs": [
    {
     "name": "stdout",
     "output_type": "stream",
     "text": [
      "\u001b[1m1/1\u001b[0m \u001b[32m━━━━━━━━━━━━━━━━━━━━\u001b[0m\u001b[37m\u001b[0m \u001b[1m0s\u001b[0m 129ms/step\n"
     ]
    }
   ],
   "source": [
    "pred= model.predict(img)[0]"
   ]
  },
  {
   "cell_type": "code",
   "execution_count": 7,
   "metadata": {},
   "outputs": [
    {
     "name": "stdout",
     "output_type": "stream",
     "text": [
      "Forged\n"
     ]
    }
   ],
   "source": [
    "if pred[0]>pred[1]:\n",
    "    print(\"Not Forged\")\n",
    "else:\n",
    "    print('Forged')"
   ]
  },
  {
   "cell_type": "code",
   "execution_count": 8,
   "metadata": {},
   "outputs": [
    {
     "name": "stdout",
     "output_type": "stream",
     "text": [
      "Confidence: 84.31%\n"
     ]
    }
   ],
   "source": [
    "print(f\"Confidence: {max(pred)*100:.2f}%\")"
   ]
  }
 ],
 "metadata": {
  "kernelspec": {
   "display_name": "Python 3 (ipykernel)",
   "language": "python",
   "name": "python3"
  },
  "language_info": {
   "codemirror_mode": {
    "name": "ipython",
    "version": 3
   },
   "file_extension": ".py",
   "mimetype": "text/x-python",
   "name": "python",
   "nbconvert_exporter": "python",
   "pygments_lexer": "ipython3",
   "version": "3.10.7"
  },
  "vscode": {
   "interpreter": {
    "hash": "48365518c227e62be147b42d7add44510e7fb62100b3723d8ec93fa6d5610320"
   }
  }
 },
 "nbformat": 4,
 "nbformat_minor": 4
}
